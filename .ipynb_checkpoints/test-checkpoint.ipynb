{
 "cells": [
  {
   "cell_type": "code",
   "execution_count": null,
   "id": "464cc4ca-d437-40ad-8cbb-5590d6af37ee",
   "metadata": {},
   "outputs": [],
   "source": [
    "import telebot\n",
    "from telebot import types\n",
    "from config import TOKEN\n",
    "\n",
    "bot = telebot.TeleBot(TOKEN)"
   ]
  },
  {
   "cell_type": "code",
   "execution_count": null,
   "id": "b2288442-de19-41b0-9de5-1c4308728802",
   "metadata": {},
   "outputs": [],
   "source": [
    "\n",
    "\n",
    "# [1, 1, 'asd'] - массив / список, изменяемый размер\n",
    "# {key: value} - словарь\n",
    "# (1, 1, 'asd') - кортеж, не изменяймый размер\n",
    "# (1, 2, 3, '1asd') - множество, изменяемый размер, но элепменты уникальны\n",
    "\n",
    "\n",
    "tests = {\n",
    "    1: ('В сутках 24 часа?', {'A': 'Да', 'B': 'Нет', 'C': 'Больше 24', 'D': 'Меньше',}, 'A'),\n",
    "    2: ('Сколько дней в году?', {'A': '100', 'B': '360', 'C': '280', 'D': '365',}, 'D'),\n",
    "    3: ('Сколько дней в неделе?', {'A': '3', 'B': '4', 'C': '7', 'D': 'Не знаю',}, 'C'),\n",
    "    4: ('Сколько дней в фервале (каждые 4 года)?', {'A': '31', 'B': '29', 'C': '28', 'D': '30',}, 'B'),\n",
    "    5: ('Сколько секунд в одном часу?', {'A': '3600', 'B': '60', 'C': '1000', 'D': '100',}, 'A'),\n",
    "}\n",
    "\n",
    "\n",
    "def start_test(bot, call):\n",
    "    markup = types.InlineKeyboardMarkup()\n",
    "    for i, j in tests.items():\n",
    "        print(j)\n",
    "        print(j[1])\n",
    "        if i == 1:\n",
    "            button1 = types.InlineKeyboardButton(j[1][\"A\"], callback_data=f'answer_question_test:{j[1][\"A\"]}')\n",
    "            button2 = types.InlineKeyboardButton(j[1][\"B\"], callback_data=f'answer_question_test:{j[1][\"B\"]}')\n",
    "            button3 = types.InlineKeyboardButton(j[1][\"C\"], callback_data=f'answer_question_test:{j[1][\"C\"]}')\n",
    "            button4 = types.InlineKeyboardButton(j[1][\"D\"], callback_data=f'answer_question_test:{j[1][\"D\"]}')\n",
    "\n",
    "            markup.row(button1, button2, button3, button4)\n",
    "            bot.send_message(call.message.chat.id, text=j[0], reply_markup=markup)"
   ]
  },
  {
   "cell_type": "code",
   "execution_count": null,
   "id": "9fb463b7-40eb-46e9-8b4c-7b0b7e500332",
   "metadata": {},
   "outputs": [],
   "source": [
    "@bot.message_handler(commands=['start'])\n",
    "def start_message(message):\n",
    "    '''\n",
    "    приветсвенный вопрос\n",
    "    '''\n",
    "    markup = types.InlineKeyboardMarkup()\n",
    "    buttonYes = types.InlineKeyboardButton('ДА', callback_data='first_question:yes')\n",
    "    buttonNo = types.InlineKeyboardButton('НЕТ', callback_data='first_question:no')\n",
    "    markup.row(buttonYes, buttonNo)\n",
    "    bot.send_message(message.chat.id, 'Привет, хочешь пройти тест?', reply_markup=markup)\n"
   ]
  },
  {
   "cell_type": "code",
   "execution_count": null,
   "id": "980767bc-0e02-418b-b721-5e998c7a513f",
   "metadata": {},
   "outputs": [],
   "source": [
    "@bot.message_handler(content_types='text')\n",
    "def message_reply_text(msg):\n",
    "    markup = types.ReplyKeyboardMarkup()\n",
    "    buttonA = types.KeyboardButton('A')\n",
    "    buttonB = types.KeyboardButton('B')\n",
    "    buttonC = types.KeyboardButton('C')\n",
    "\n",
    "    markup.row(buttonA, buttonB)\n",
    "    markup.row(buttonC)\n",
    "\n",
    "    bot.send_message(msg.chat.id, 'It works!', reply_markup=markup)\n"
   ]
  },
  {
   "cell_type": "code",
   "execution_count": null,
   "id": "a38ee78d-d4e9-4331-8ec0-3a699193424e",
   "metadata": {},
   "outputs": [],
   "source": [
    "@bot.callback_query_handler(func=lambda call: call.data.split(\":\") == \"first_question\")\n",
    "def greeting(call):\n",
    "    '''\n",
    "    обработчик кнопок на приветсвенный вопрос\n",
    "    '''\n",
    "    bot.answer_callback_query(call.id)\n",
    "    print(call.data)\n",
    "    # для начала теста\n",
    "    if str(call.data.split(\":\")[1]) == 'yes':\n",
    "        start_test(bot, call)\n",
    "    else:\n",
    "        bot.send_message(call.message.chat.id, text='Тогда до встречи, если что пиши \"/start\"')"
   ]
  },
  {
   "cell_type": "code",
   "execution_count": null,
   "id": "261b245b-dcae-47d4-926c-8f8df5bbf46f",
   "metadata": {},
   "outputs": [],
   "source": [
    "@bot.callback_query_handler(func=lambda call: call.data.split(\":\") == \"answer_question_test\")\n",
    "def handle_test_button(call):\n",
    "    '''\n",
    "    обработчик кнопок овтетов на вопросы\n",
    "    '''\n",
    "    bot.answer_callback_query(call.id)\n",
    "    print(call.data)\n",
    "    # для тестов\n",
    "    if str(call.data.split(\":\")[1]) == 'yes':\n",
    "        start_test(bot, call)\n",
    "    else:\n",
    "        # bot.send_message(call.message.chat.id, text='Тогда до встречи, если что пиши \"/start\"')\n",
    "        bot.send_message(call.message.chat.id, text=call.data.split(\":\")[1])"
   ]
  },
  {
   "cell_type": "code",
   "execution_count": null,
   "id": "c14cd9b7-3437-4d62-85b7-0880dac98626",
   "metadata": {},
   "outputs": [],
   "source": [
    "def main():\n",
    "    bot.polling()\n",
    "\n",
    "\n",
    "if __name__ == \"__main__\":\n",
    "    main()\n",
    "\n"
   ]
  },
  {
   "cell_type": "code",
   "execution_count": null,
   "id": "1ab5f05e-9c63-4994-aa3e-89d0028d882d",
   "metadata": {},
   "outputs": [],
   "source": []
  }
 ],
 "metadata": {
  "kernelspec": {
   "display_name": "Python 3 (ipykernel)",
   "language": "python",
   "name": "python3"
  },
  "language_info": {
   "codemirror_mode": {
    "name": "ipython",
    "version": 3
   },
   "file_extension": ".py",
   "mimetype": "text/x-python",
   "name": "python",
   "nbconvert_exporter": "python",
   "pygments_lexer": "ipython3",
   "version": "3.9.10"
  }
 },
 "nbformat": 4,
 "nbformat_minor": 5
}
